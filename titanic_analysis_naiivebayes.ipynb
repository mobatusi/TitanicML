{
 "cells": [
  {
   "cell_type": "markdown",
   "metadata": {},
   "source": [
    "## Preliminaries"
   ]
  },
  {
   "cell_type": "code",
   "execution_count": 1,
   "metadata": {},
   "outputs": [
    {
     "name": "stderr",
     "output_type": "stream",
     "text": [
      "/anaconda/envs/ipykernel_py3/lib/python3.6/site-packages/sklearn/cross_validation.py:41: DeprecationWarning: This module was deprecated in version 0.18 in favor of the model_selection module into which all the refactored classes and functions are moved. Also note that the interface of the new CV iterators are different from that of this module. This module will be removed in 0.20.\n",
      "  \"This module will be removed in 0.20.\", DeprecationWarning)\n"
     ]
    }
   ],
   "source": [
    "# Load libraries\n",
    "import pandas as pd\n",
    "import matplotlib.pyplot as plt\n",
    "import numpy as np\n",
    "\n",
    "from sklearn.svm import LinearSVC\n",
    "from sklearn.preprocessing import StandardScaler\n",
    "from sklearn.model_selection import KFold, cross_val_score\n",
    "\n",
    "\n",
    "from sklearn.pipeline import make_pipeline\n",
    "from sklearn import preprocessing\n",
    "from sklearn import cross_validation\n",
    "from sklearn import svm\n"
   ]
  },
  {
   "cell_type": "markdown",
   "metadata": {},
   "source": [
    "## Load Preprocessed data and target"
   ]
  },
  {
   "cell_type": "code",
   "execution_count": 75,
   "metadata": {},
   "outputs": [],
   "source": [
    "X_train = np.loadtxt('data_preproc_train.txt', delimiter=',')\n",
    "y_train = np.loadtxt('target_train.txt',delimiter=',')\n",
    "X_test = np.loadtxt('data_preproc_test.txt',delimiter=',')"
   ]
  },
  {
   "cell_type": "markdown",
   "metadata": {},
   "source": [
    "### Bayes Theorem"
   ]
  },
  {
   "cell_type": "markdown",
   "metadata": {},
   "source": [
    "Bayes theorem is a famous equation that allows us to make predictions based on data. Here is the classic version of the Bayes theorem:\n",
    "\n",
    "P\n",
    "(\n",
    "A\n",
    "∣\n",
    "B\n",
    ")\n",
    "=\n",
    "P\n",
    "(\n",
    "B\n",
    "∣\n",
    "A\n",
    ")\n",
    "P\n",
    "(\n",
    "A\n",
    ")\n",
    "/\n",
    "P\n",
    "(\n",
    "B\n",
    ")\n",
    "This might be too abstract, so let us replace some of the variables to make it more concrete. In a bayes classifier, we are interested in finding out the class (e.g. male or female, spam or ham) of an observation given the data:\n",
    "\n",
    "p\n",
    "(\n",
    "class\n",
    "∣\n",
    "data\n",
    ")\n",
    "=\n",
    "p\n",
    "(\n",
    "data\n",
    "∣\n",
    "class\n",
    ")\n",
    "∗\n",
    "p\n",
    "(\n",
    "class\n",
    ")\n",
    "/\n",
    "p\n",
    "(\n",
    "data\n",
    ")\n",
    "\n",
    "where:\n",
    "\n",
    "class is a particular class (e.g. male)\n",
    "\n",
    "data is an observation’s data\n",
    "\n",
    "p(class∣data) is called the posterior\n",
    "\n",
    "p(data|class)is called the likelihood\n",
    "\n",
    "p(class) is called the prior\n",
    "\n",
    "p(data) is called the marginal probability"
   ]
  },
  {
   "cell_type": "markdown",
   "metadata": {},
   "source": [
    "### Gaussian Naive Bayes Classifier"
   ]
  },
  {
   "cell_type": "markdown",
   "metadata": {},
   "source": [
    "A gaussian naive bayes is probably the most popular type of bayes classifier. To explain what the name means, let us look at what the bayes equations looks like when we apply our two classes of survival(yes and no) and six feature variables (Pclass, Sex, Age, SibSp,Parch, Embarked):"
   ]
  },
  {
   "cell_type": "markdown",
   "metadata": {},
   "source": [
    "\\begin{equation*}\n",
    "posterior(yes) = \\frac{P(yes)p(pclass∣yes)p(sex∣yes)p(age∣yes)p(SibSp∣yes)p(Parch∣yes)p(Embarked∣yes)}{marginal probability}\n",
    "\\end{equation*}\n",
    "\n",
    "\\begin{equation*}\n",
    "posterior(no) = \\frac{P(no)p(pclass∣no)p(sex∣no)p(age∣no)p(SibSp∣no)p(Parch∣no)p(Embarked∣no)}{marginal probability}\n",
    "\\end{equation*}\n",
    "\n",
    "Now let us unpack the top equation a bit:\n",
    "\n",
    "P(yes) is the prior probabilities. It is, as you can see, simply the probability an observation is yes. This is just the number of yes in the dataset divided by the total number of people in the dataset.\n",
    "\n",
    "p(pclass∣no)p(sex∣no)p(age∣no)p(SibSp∣no)p(Parch∣no)p(Embarked∣no) is the likelihood. Notice that we have unpacked person’s data so it is now every feature in the dataset. The “gaussian” and “naive” come from two assumptions present in this likelihood:\n",
    "\n",
    "\t1.If you look each term in the likelihood you will notice that we assume each feature is uncorrelated from each other. That is, foot size is independent of weight or age etc.. This is obviously not true, and is a “naive” assumption - hence the name “naive bayes.”\n",
    "\n",
    "\t2.Second, we assume have that the value of the features (e.g. the age of a survial outcome, the sex of survival outcome) are normally (gaussian) distributed. This means that p(age∣no) is calculated by inputing the required parameters into the probability density function of the normal distribution:\n",
    "\n",
    "p(age∣no)= (1 / √2π * variance of no survival age in the data) * e−(observation’s age − average age of no's in the data)^2 / 2 * variance of no age in the data\n",
    "\n",
    "marginal probability is probably one of the most confusing parts of bayesian approaches. In toy examples (including ours) it is completely possible to calculate the marginal probability. However, in many real-world cases, it is either extremely difficult or impossible to find the value of the marginal probability. This is not as much of a problem for our classifier as you might think. Why? Because we don’t care what the true posterior value is, we only care which class has a the highest posterior value. And because the marginal probability is the same for all classes \n",
    "\n",
    "1) we can ignore the denominator\n",
    "\n",
    "2) calculate only the posterior’s numerator for each class\n",
    "\n",
    "3) pick the largest numerator. That is, we can ignore the posterior’s denominator and make a prediction solely on the relative values of the posterior’s numerator."
   ]
  },
  {
   "cell_type": "markdown",
   "metadata": {},
   "source": [
    "### Calculate Priors"
   ]
  },
  {
   "cell_type": "markdown",
   "metadata": {},
   "source": [
    "Priors can be either constants or probability distributions. In our example, this is simply the probability of being a gender. Calculating this is simple:"
   ]
  },
  {
   "cell_type": "code",
   "execution_count": 77,
   "metadata": {},
   "outputs": [
    {
     "data": {
      "text/plain": [
       "(714, 6)"
      ]
     },
     "execution_count": 77,
     "metadata": {},
     "output_type": "execute_result"
    }
   ],
   "source": [
    "np.shape(X_train)"
   ]
  },
  {
   "cell_type": "code",
   "execution_count": 78,
   "metadata": {},
   "outputs": [
    {
     "data": {
      "text/plain": [
       "(332, 6)"
      ]
     },
     "execution_count": 78,
     "metadata": {},
     "output_type": "execute_result"
    }
   ],
   "source": [
    "np.shape(X_test)"
   ]
  },
  {
   "cell_type": "code",
   "execution_count": 76,
   "metadata": {},
   "outputs": [
    {
     "data": {
      "text/plain": [
       "(714,)"
      ]
     },
     "execution_count": 76,
     "metadata": {},
     "output_type": "execute_result"
    }
   ],
   "source": [
    "np.shape(y_train)"
   ]
  },
  {
   "cell_type": "code",
   "execution_count": 79,
   "metadata": {},
   "outputs": [
    {
     "name": "stdout",
     "output_type": "stream",
     "text": [
      "290\n"
     ]
    }
   ],
   "source": [
    "n_yes = np.count_nonzero(y_train)\n",
    "print(n_yes)"
   ]
  },
  {
   "cell_type": "code",
   "execution_count": 80,
   "metadata": {},
   "outputs": [
    {
     "data": {
      "text/plain": [
       "714"
      ]
     },
     "execution_count": 80,
     "metadata": {},
     "output_type": "execute_result"
    }
   ],
   "source": [
    "np.size(y_train)"
   ]
  },
  {
   "cell_type": "code",
   "execution_count": 81,
   "metadata": {},
   "outputs": [
    {
     "name": "stdout",
     "output_type": "stream",
     "text": [
      "290\n",
      "424\n",
      "0.4061624649859944\n",
      "0.5938375350140056\n"
     ]
    }
   ],
   "source": [
    "# Total rows\n",
    "total_ppl = np.size(y_train)\n",
    "\n",
    "# Number of yes == 1\n",
    "n_yes = np.count_nonzero(y_train)\n",
    "print(n_yes)\n",
    "\n",
    "# Number of no == 0\n",
    "n_no = total_ppl - n_yes\n",
    "print(n_no)\n",
    "\n",
    "# Number of survived divided by the total rows\n",
    "P_yes = n_yes/total_ppl\n",
    "print(P_yes)\n",
    "\n",
    "# Number of not survived divided by the total rows\n",
    "P_no = n_no/total_ppl\n",
    "print(P_no)"
   ]
  },
  {
   "cell_type": "markdown",
   "metadata": {},
   "source": [
    "### Calculate Likelihood"
   ]
  },
  {
   "attachments": {},
   "cell_type": "markdown",
   "metadata": {},
   "source": [
    "\\begin{equation*}\n",
    "p(age∣no) =  \\frac{1}{2π * variance of no survival age in the data}* e− ^\\frac{(observations age − average age of nos in the data)^2} {2* variance of no age in the data}\n",
    "\\end{equation*} is the likelihood. \n",
    "\n",
    "This means that for each class (e.g. no) and feature (e.g. age) combination we need to calculate the variance and mean value from the data. "
   ]
  },
  {
   "cell_type": "code",
   "execution_count": 82,
   "metadata": {},
   "outputs": [],
   "source": [
    "df_X_train = pd.DataFrame(X_train, columns=['Pclass', 'Sex', 'Age', 'SibSp','Parch', 'Embarked'])"
   ]
  },
  {
   "cell_type": "code",
   "execution_count": 83,
   "metadata": {
    "scrolled": true
   },
   "outputs": [],
   "source": [
    "df_X_train['Survial'] = pd.DataFrame(y_train)"
   ]
  },
  {
   "cell_type": "code",
   "execution_count": 84,
   "metadata": {},
   "outputs": [
    {
     "data": {
      "text/html": [
       "<div>\n",
       "<style scoped>\n",
       "    .dataframe tbody tr th:only-of-type {\n",
       "        vertical-align: middle;\n",
       "    }\n",
       "\n",
       "    .dataframe tbody tr th {\n",
       "        vertical-align: top;\n",
       "    }\n",
       "\n",
       "    .dataframe thead th {\n",
       "        text-align: right;\n",
       "    }\n",
       "</style>\n",
       "<table border=\"1\" class=\"dataframe\">\n",
       "  <thead>\n",
       "    <tr style=\"text-align: right;\">\n",
       "      <th></th>\n",
       "      <th>Pclass</th>\n",
       "      <th>Sex</th>\n",
       "      <th>Age</th>\n",
       "      <th>SibSp</th>\n",
       "      <th>Parch</th>\n",
       "      <th>Embarked</th>\n",
       "      <th>Survial</th>\n",
       "    </tr>\n",
       "  </thead>\n",
       "  <tbody>\n",
       "    <tr>\n",
       "      <th>0</th>\n",
       "      <td>0.911</td>\n",
       "      <td>0.759</td>\n",
       "      <td>-0.530</td>\n",
       "      <td>0.525</td>\n",
       "      <td>-0.506</td>\n",
       "      <td>0.519</td>\n",
       "      <td>0.0</td>\n",
       "    </tr>\n",
       "    <tr>\n",
       "      <th>1</th>\n",
       "      <td>-1.476</td>\n",
       "      <td>-1.317</td>\n",
       "      <td>0.572</td>\n",
       "      <td>0.525</td>\n",
       "      <td>-0.506</td>\n",
       "      <td>-2.053</td>\n",
       "      <td>1.0</td>\n",
       "    </tr>\n",
       "    <tr>\n",
       "      <th>2</th>\n",
       "      <td>0.911</td>\n",
       "      <td>-1.317</td>\n",
       "      <td>-0.255</td>\n",
       "      <td>-0.552</td>\n",
       "      <td>-0.506</td>\n",
       "      <td>0.519</td>\n",
       "      <td>1.0</td>\n",
       "    </tr>\n",
       "    <tr>\n",
       "      <th>3</th>\n",
       "      <td>-1.476</td>\n",
       "      <td>-1.317</td>\n",
       "      <td>0.365</td>\n",
       "      <td>0.525</td>\n",
       "      <td>-0.506</td>\n",
       "      <td>0.519</td>\n",
       "      <td>1.0</td>\n",
       "    </tr>\n",
       "    <tr>\n",
       "      <th>4</th>\n",
       "      <td>0.911</td>\n",
       "      <td>0.759</td>\n",
       "      <td>0.365</td>\n",
       "      <td>-0.552</td>\n",
       "      <td>-0.506</td>\n",
       "      <td>0.519</td>\n",
       "      <td>0.0</td>\n",
       "    </tr>\n",
       "  </tbody>\n",
       "</table>\n",
       "</div>"
      ],
      "text/plain": [
       "   Pclass    Sex    Age  SibSp  Parch  Embarked  Survial\n",
       "0   0.911  0.759 -0.530  0.525 -0.506     0.519      0.0\n",
       "1  -1.476 -1.317  0.572  0.525 -0.506    -2.053      1.0\n",
       "2   0.911 -1.317 -0.255 -0.552 -0.506     0.519      1.0\n",
       "3  -1.476 -1.317  0.365  0.525 -0.506     0.519      1.0\n",
       "4   0.911  0.759  0.365 -0.552 -0.506     0.519      0.0"
      ]
     },
     "execution_count": 84,
     "metadata": {},
     "output_type": "execute_result"
    }
   ],
   "source": [
    "df_X_train.head()"
   ]
  },
  {
   "cell_type": "code",
   "execution_count": 85,
   "metadata": {},
   "outputs": [
    {
     "data": {
      "text/html": [
       "<div>\n",
       "<style scoped>\n",
       "    .dataframe tbody tr th:only-of-type {\n",
       "        vertical-align: middle;\n",
       "    }\n",
       "\n",
       "    .dataframe tbody tr th {\n",
       "        vertical-align: top;\n",
       "    }\n",
       "\n",
       "    .dataframe thead th {\n",
       "        text-align: right;\n",
       "    }\n",
       "</style>\n",
       "<table border=\"1\" class=\"dataframe\">\n",
       "  <thead>\n",
       "    <tr style=\"text-align: right;\">\n",
       "      <th></th>\n",
       "      <th>Pclass</th>\n",
       "      <th>Sex</th>\n",
       "      <th>Age</th>\n",
       "      <th>SibSp</th>\n",
       "      <th>Parch</th>\n",
       "      <th>Embarked</th>\n",
       "    </tr>\n",
       "    <tr>\n",
       "      <th>Survial</th>\n",
       "      <th></th>\n",
       "      <th></th>\n",
       "      <th></th>\n",
       "      <th></th>\n",
       "      <th></th>\n",
       "      <th></th>\n",
       "    </tr>\n",
       "  </thead>\n",
       "  <tbody>\n",
       "    <tr>\n",
       "      <th>0.0</th>\n",
       "      <td>0.297255</td>\n",
       "      <td>0.445642</td>\n",
       "      <td>0.063870</td>\n",
       "      <td>0.014229</td>\n",
       "      <td>-0.077217</td>\n",
       "      <td>0.148972</td>\n",
       "    </tr>\n",
       "    <tr>\n",
       "      <th>1.0</th>\n",
       "      <td>-0.434917</td>\n",
       "      <td>-0.651248</td>\n",
       "      <td>-0.093352</td>\n",
       "      <td>-0.021024</td>\n",
       "      <td>0.112845</td>\n",
       "      <td>-0.217124</td>\n",
       "    </tr>\n",
       "  </tbody>\n",
       "</table>\n",
       "</div>"
      ],
      "text/plain": [
       "           Pclass       Sex       Age     SibSp     Parch  Embarked\n",
       "Survial                                                            \n",
       "0.0      0.297255  0.445642  0.063870  0.014229 -0.077217  0.148972\n",
       "1.0     -0.434917 -0.651248 -0.093352 -0.021024  0.112845 -0.217124"
      ]
     },
     "execution_count": 85,
     "metadata": {},
     "output_type": "execute_result"
    }
   ],
   "source": [
    "# Group the data by gender and calculate the means of each feature\n",
    "data_means = df_X_train.groupby('Survial').mean()\n",
    "\n",
    "# View the values\n",
    "data_means"
   ]
  },
  {
   "cell_type": "code",
   "execution_count": 86,
   "metadata": {},
   "outputs": [
    {
     "data": {
      "text/html": [
       "<div>\n",
       "<style scoped>\n",
       "    .dataframe tbody tr th:only-of-type {\n",
       "        vertical-align: middle;\n",
       "    }\n",
       "\n",
       "    .dataframe tbody tr th {\n",
       "        vertical-align: top;\n",
       "    }\n",
       "\n",
       "    .dataframe thead th {\n",
       "        text-align: right;\n",
       "    }\n",
       "</style>\n",
       "<table border=\"1\" class=\"dataframe\">\n",
       "  <thead>\n",
       "    <tr style=\"text-align: right;\">\n",
       "      <th></th>\n",
       "      <th>Pclass</th>\n",
       "      <th>Sex</th>\n",
       "      <th>Age</th>\n",
       "      <th>SibSp</th>\n",
       "      <th>Parch</th>\n",
       "      <th>Embarked</th>\n",
       "    </tr>\n",
       "    <tr>\n",
       "      <th>Survial</th>\n",
       "      <th></th>\n",
       "      <th></th>\n",
       "      <th></th>\n",
       "      <th></th>\n",
       "      <th></th>\n",
       "      <th></th>\n",
       "    </tr>\n",
       "  </thead>\n",
       "  <tbody>\n",
       "    <tr>\n",
       "      <th>0.0</th>\n",
       "      <td>0.787827</td>\n",
       "      <td>0.553644</td>\n",
       "      <td>0.953078</td>\n",
       "      <td>1.264646</td>\n",
       "      <td>1.061262</td>\n",
       "      <td>0.738524</td>\n",
       "    </tr>\n",
       "    <tr>\n",
       "      <th>1.0</th>\n",
       "      <td>0.996964</td>\n",
       "      <td>0.942124</td>\n",
       "      <td>1.060719</td>\n",
       "      <td>0.619537</td>\n",
       "      <td>0.896301</td>\n",
       "      <td>1.310329</td>\n",
       "    </tr>\n",
       "  </tbody>\n",
       "</table>\n",
       "</div>"
      ],
      "text/plain": [
       "           Pclass       Sex       Age     SibSp     Parch  Embarked\n",
       "Survial                                                            \n",
       "0.0      0.787827  0.553644  0.953078  1.264646  1.061262  0.738524\n",
       "1.0      0.996964  0.942124  1.060719  0.619537  0.896301  1.310329"
      ]
     },
     "execution_count": 86,
     "metadata": {},
     "output_type": "execute_result"
    }
   ],
   "source": [
    "# Group the data by gender and calculate the variance of each feature\n",
    "data_variance = df_X_train.groupby('Survial').var()\n",
    "\n",
    "# View the values\n",
    "data_variance"
   ]
  },
  {
   "cell_type": "code",
   "execution_count": 87,
   "metadata": {},
   "outputs": [],
   "source": [
    "# Means for survived\n",
    "yes_Pclass_mean = data_means['Pclass'][data_variance.index == 1.0].values[0]\n",
    "yes_Sex_mean = data_means['Sex'][data_variance.index == 1.0].values[0]\n",
    "yes_Age_mean = data_means['Age'][data_variance.index == 1.0].values[0]\n",
    "yes_SibSp_mean = data_means['SibSp'][data_variance.index == 1.0].values[0]\n",
    "yes_Parch_mean = data_means['Parch'][data_variance.index == 1.0].values[0]\n",
    "yes_Embarked_mean = data_means['Embarked'][data_variance.index == 1.0].values[0]\n",
    "\n",
    "# Variance for survived\n",
    "yes_Pclass_variance= data_variance['Pclass'][data_variance.index == 1.0].values[0]\n",
    "yes_Sex_variance= data_variance['Sex'][data_variance.index == 1.0].values[0]\n",
    "yes_Age_variance= data_variance['Age'][data_variance.index == 1.0].values[0]\n",
    "yes_SibSp_variance= data_variance['SibSp'][data_variance.index == 1.0].values[0]\n",
    "yes_Parch_variance= data_variance['Parch'][data_variance.index == 1.0].values[0]\n",
    "yes_Embarked_variance= data_variance['Embarked'][data_variance.index == 1.0].values[0]\n",
    "\n",
    "# Means for not survived\n",
    "no_Pclass_mean = data_means['Pclass'][data_variance.index == 0.0].values[0]\n",
    "no_Sex_mean = data_means['Sex'][data_variance.index == 0.0].values[0]\n",
    "no_Age_mean = data_means['Age'][data_variance.index == 0.0].values[0]\n",
    "no_SibSp_mean = data_means['SibSp'][data_variance.index == 0.0].values[0]\n",
    "no_Parch_mean = data_means['Parch'][data_variance.index == 0.0].values[0]\n",
    "no_Embarked_mean = data_means['Embarked'][data_variance.index == 0.0].values[0]\n",
    "\n",
    "# Variance for not survived\n",
    "no_Pclass_variance= data_variance['Pclass'][data_variance.index == 0.0].values[0]\n",
    "no_Sex_variance= data_variance['Sex'][data_variance.index == 0.0].values[0]\n",
    "no_Age_variance= data_variance['Age'][data_variance.index == 0.0].values[0]\n",
    "no_SibSp_variance= data_variance['SibSp'][data_variance.index == 0.0].values[0]\n",
    "no_Parch_variance= data_variance['Parch'][data_variance.index == 0.0].values[0]\n",
    "no_Embarked_variance= data_variance['Embarked'][data_variance.index == 0.0].values[0]"
   ]
  },
  {
   "cell_type": "markdown",
   "metadata": {},
   "source": [
    "Finally, we need to create a function to calculate the probability density of each of the terms of the likelihood (e.g. p(age∣no))."
   ]
  },
  {
   "cell_type": "code",
   "execution_count": 88,
   "metadata": {},
   "outputs": [],
   "source": [
    "# Create a function that calculates p(x | y):\n",
    "def p_x_given_y(x, mean_y, variance_y):\n",
    "\n",
    "    # Input the arguments into a probability density function\n",
    "    p = 1/(np.sqrt(2*np.pi*variance_y)) * np.exp((-(x-mean_y)**2)/(2*variance_y))\n",
    "    \n",
    "    # return p\n",
    "    return p"
   ]
  },
  {
   "cell_type": "markdown",
   "metadata": {},
   "source": [
    "### Apply Bayes Classifier To New Data Point"
   ]
  },
  {
   "cell_type": "code",
   "execution_count": 89,
   "metadata": {},
   "outputs": [],
   "source": [
    "df_X_test = pd.DataFrame(X_test, columns=['Pclass', 'Sex', 'Age', 'SibSp','Parch', 'Embarked'])"
   ]
  },
  {
   "cell_type": "code",
   "execution_count": 92,
   "metadata": {},
   "outputs": [
    {
     "name": "stdout",
     "output_type": "stream",
     "text": [
      "(332, 6)\n"
     ]
    },
    {
     "data": {
      "text/html": [
       "<div>\n",
       "<style scoped>\n",
       "    .dataframe tbody tr th:only-of-type {\n",
       "        vertical-align: middle;\n",
       "    }\n",
       "\n",
       "    .dataframe tbody tr th {\n",
       "        vertical-align: top;\n",
       "    }\n",
       "\n",
       "    .dataframe thead th {\n",
       "        text-align: right;\n",
       "    }\n",
       "</style>\n",
       "<table border=\"1\" class=\"dataframe\">\n",
       "  <thead>\n",
       "    <tr style=\"text-align: right;\">\n",
       "      <th></th>\n",
       "      <th>Pclass</th>\n",
       "      <th>Sex</th>\n",
       "      <th>Age</th>\n",
       "      <th>SibSp</th>\n",
       "      <th>Parch</th>\n",
       "      <th>Embarked</th>\n",
       "    </tr>\n",
       "  </thead>\n",
       "  <tbody>\n",
       "    <tr>\n",
       "      <th>0</th>\n",
       "      <td>1.012</td>\n",
       "      <td>0.787</td>\n",
       "      <td>0.299</td>\n",
       "      <td>-0.552</td>\n",
       "      <td>-0.491</td>\n",
       "      <td>-0.511</td>\n",
       "    </tr>\n",
       "    <tr>\n",
       "      <th>1</th>\n",
       "      <td>1.012</td>\n",
       "      <td>-1.271</td>\n",
       "      <td>1.181</td>\n",
       "      <td>0.594</td>\n",
       "      <td>-0.491</td>\n",
       "      <td>0.651</td>\n",
       "    </tr>\n",
       "    <tr>\n",
       "      <th>2</th>\n",
       "      <td>-0.171</td>\n",
       "      <td>0.787</td>\n",
       "      <td>2.241</td>\n",
       "      <td>-0.552</td>\n",
       "      <td>-0.491</td>\n",
       "      <td>-0.511</td>\n",
       "    </tr>\n",
       "    <tr>\n",
       "      <th>3</th>\n",
       "      <td>1.012</td>\n",
       "      <td>0.787</td>\n",
       "      <td>-0.231</td>\n",
       "      <td>-0.552</td>\n",
       "      <td>-0.491</td>\n",
       "      <td>0.651</td>\n",
       "    </tr>\n",
       "    <tr>\n",
       "      <th>4</th>\n",
       "      <td>1.012</td>\n",
       "      <td>-1.271</td>\n",
       "      <td>-0.584</td>\n",
       "      <td>0.594</td>\n",
       "      <td>0.744</td>\n",
       "      <td>0.651</td>\n",
       "    </tr>\n",
       "  </tbody>\n",
       "</table>\n",
       "</div>"
      ],
      "text/plain": [
       "   Pclass    Sex    Age  SibSp  Parch  Embarked\n",
       "0   1.012  0.787  0.299 -0.552 -0.491    -0.511\n",
       "1   1.012 -1.271  1.181  0.594 -0.491     0.651\n",
       "2  -0.171  0.787  2.241 -0.552 -0.491    -0.511\n",
       "3   1.012  0.787 -0.231 -0.552 -0.491     0.651\n",
       "4   1.012 -1.271 -0.584  0.594  0.744     0.651"
      ]
     },
     "execution_count": 92,
     "metadata": {},
     "output_type": "execute_result"
    }
   ],
   "source": [
    "print(df_X_test.shape)\n",
    "df_X_test.head()"
   ]
  },
  {
   "cell_type": "code",
   "execution_count": 93,
   "metadata": {},
   "outputs": [
    {
     "name": "stdout",
     "output_type": "stream",
     "text": [
      "(714, 7)\n"
     ]
    },
    {
     "data": {
      "text/html": [
       "<div>\n",
       "<style scoped>\n",
       "    .dataframe tbody tr th:only-of-type {\n",
       "        vertical-align: middle;\n",
       "    }\n",
       "\n",
       "    .dataframe tbody tr th {\n",
       "        vertical-align: top;\n",
       "    }\n",
       "\n",
       "    .dataframe thead th {\n",
       "        text-align: right;\n",
       "    }\n",
       "</style>\n",
       "<table border=\"1\" class=\"dataframe\">\n",
       "  <thead>\n",
       "    <tr style=\"text-align: right;\">\n",
       "      <th></th>\n",
       "      <th>Pclass</th>\n",
       "      <th>Sex</th>\n",
       "      <th>Age</th>\n",
       "      <th>SibSp</th>\n",
       "      <th>Parch</th>\n",
       "      <th>Embarked</th>\n",
       "      <th>Survial</th>\n",
       "    </tr>\n",
       "  </thead>\n",
       "  <tbody>\n",
       "    <tr>\n",
       "      <th>0</th>\n",
       "      <td>0.911</td>\n",
       "      <td>0.759</td>\n",
       "      <td>-0.530</td>\n",
       "      <td>0.525</td>\n",
       "      <td>-0.506</td>\n",
       "      <td>0.519</td>\n",
       "      <td>0.0</td>\n",
       "    </tr>\n",
       "    <tr>\n",
       "      <th>1</th>\n",
       "      <td>-1.476</td>\n",
       "      <td>-1.317</td>\n",
       "      <td>0.572</td>\n",
       "      <td>0.525</td>\n",
       "      <td>-0.506</td>\n",
       "      <td>-2.053</td>\n",
       "      <td>1.0</td>\n",
       "    </tr>\n",
       "    <tr>\n",
       "      <th>2</th>\n",
       "      <td>0.911</td>\n",
       "      <td>-1.317</td>\n",
       "      <td>-0.255</td>\n",
       "      <td>-0.552</td>\n",
       "      <td>-0.506</td>\n",
       "      <td>0.519</td>\n",
       "      <td>1.0</td>\n",
       "    </tr>\n",
       "    <tr>\n",
       "      <th>3</th>\n",
       "      <td>-1.476</td>\n",
       "      <td>-1.317</td>\n",
       "      <td>0.365</td>\n",
       "      <td>0.525</td>\n",
       "      <td>-0.506</td>\n",
       "      <td>0.519</td>\n",
       "      <td>1.0</td>\n",
       "    </tr>\n",
       "    <tr>\n",
       "      <th>4</th>\n",
       "      <td>0.911</td>\n",
       "      <td>0.759</td>\n",
       "      <td>0.365</td>\n",
       "      <td>-0.552</td>\n",
       "      <td>-0.506</td>\n",
       "      <td>0.519</td>\n",
       "      <td>0.0</td>\n",
       "    </tr>\n",
       "  </tbody>\n",
       "</table>\n",
       "</div>"
      ],
      "text/plain": [
       "   Pclass    Sex    Age  SibSp  Parch  Embarked  Survial\n",
       "0   0.911  0.759 -0.530  0.525 -0.506     0.519      0.0\n",
       "1  -1.476 -1.317  0.572  0.525 -0.506    -2.053      1.0\n",
       "2   0.911 -1.317 -0.255 -0.552 -0.506     0.519      1.0\n",
       "3  -1.476 -1.317  0.365  0.525 -0.506     0.519      1.0\n",
       "4   0.911  0.759  0.365 -0.552 -0.506     0.519      0.0"
      ]
     },
     "execution_count": 93,
     "metadata": {},
     "output_type": "execute_result"
    }
   ],
   "source": [
    "print(df_X_train.shape)\n",
    "df_X_train.head()"
   ]
  },
  {
   "cell_type": "code",
   "execution_count": 94,
   "metadata": {},
   "outputs": [
    {
     "data": {
      "text/plain": [
       "0.00013129843663910163"
      ]
     },
     "execution_count": 94,
     "metadata": {},
     "output_type": "execute_result"
    }
   ],
   "source": [
    "# Numerator of the posterior if the unclassified observation is a male\n",
    "P_yes * \\\n",
    "p_x_given_y(df_X_test['Pclass'][0], yes_Pclass_mean, yes_Pclass_variance) * \\\n",
    "p_x_given_y(df_X_test['Sex'][0], yes_Sex_mean, yes_Sex_variance) * \\\n",
    "p_x_given_y(df_X_test['Age'][0], yes_Age_mean, yes_Age_variance) * \\\n",
    "p_x_given_y(df_X_test['SibSp'][0], yes_SibSp_mean, yes_SibSp_variance) * \\\n",
    "p_x_given_y(df_X_test['Parch'][0], yes_Parch_mean, yes_Parch_variance) * \\\n",
    "p_x_given_y(df_X_test['Embarked'][0], yes_Embarked_mean, yes_Embarked_variance) "
   ]
  },
  {
   "cell_type": "code",
   "execution_count": 95,
   "metadata": {},
   "outputs": [
    {
     "data": {
      "text/plain": [
       "0.0014269063962945774"
      ]
     },
     "execution_count": 95,
     "metadata": {},
     "output_type": "execute_result"
    }
   ],
   "source": [
    "# Numerator of the posterior if the unclassified observation is a female\n",
    "P_no * \\\n",
    "p_x_given_y(df_X_test['Pclass'][0], no_Pclass_mean, no_Pclass_variance) * \\\n",
    "p_x_given_y(df_X_test['Sex'][0], no_Sex_mean, no_Sex_variance) * \\\n",
    "p_x_given_y(df_X_test['Age'][0], no_Age_mean, no_Age_variance) * \\\n",
    "p_x_given_y(df_X_test['SibSp'][0], no_SibSp_mean, no_SibSp_variance) * \\\n",
    "p_x_given_y(df_X_test['Parch'][0], no_Parch_mean, no_Parch_variance) * \\\n",
    "p_x_given_y(df_X_test['Embarked'][0], no_Embarked_mean, no_Embarked_variance) "
   ]
  },
  {
   "cell_type": "code",
   "execution_count": 132,
   "metadata": {},
   "outputs": [],
   "source": [
    "def model_predict(df):\n",
    "    prediction = []\n",
    "    probability = []\n",
    "    for index, row in df.iterrows():\n",
    "        yes = P_yes * \\\n",
    "p_x_given_y(row[0], yes_Pclass_mean, yes_Pclass_variance) * \\\n",
    "p_x_given_y(row[1], yes_Sex_mean, yes_Sex_variance) * \\\n",
    "p_x_given_y(row[2], yes_Age_mean, yes_Age_variance) * \\\n",
    "p_x_given_y(row[3], yes_SibSp_mean, yes_SibSp_variance) * \\\n",
    "p_x_given_y(row[4], yes_Parch_mean, yes_Parch_variance) * \\\n",
    "p_x_given_y(row[5], yes_Embarked_mean, yes_Embarked_variance) \n",
    "\n",
    "        no = P_no * \\\n",
    "p_x_given_y(row[0], no_Pclass_mean, no_Pclass_variance) * \\\n",
    "p_x_given_y(row[1], no_Sex_mean, no_Sex_variance) * \\\n",
    "p_x_given_y(row[2], no_Age_mean, no_Age_variance) * \\\n",
    "p_x_given_y(row[3], no_SibSp_mean, no_SibSp_variance) * \\\n",
    "p_x_given_y(row[4], no_Parch_mean, no_Parch_variance) * \\\n",
    "p_x_given_y(row[5], no_Embarked_mean, no_Embarked_variance) \n",
    "        \n",
    "        # Compile probabilities\n",
    "        probability.append([no, yes])\n",
    "        \n",
    "        # Predict class based on probabilities\n",
    "        if yes > no:\n",
    "            prediction.append(1.0)\n",
    "        else:\n",
    "            prediction.append(0.0)\n",
    "            \n",
    "    return prediction, probability\n"
   ]
  },
  {
   "cell_type": "code",
   "execution_count": 133,
   "metadata": {},
   "outputs": [],
   "source": [
    "prediction, probability = model_predict(df_X_test)"
   ]
  },
  {
   "cell_type": "code",
   "execution_count": 129,
   "metadata": {},
   "outputs": [
    {
     "name": "stdout",
     "output_type": "stream",
     "text": [
      "(332,)\n",
      "(332, 2)\n"
     ]
    }
   ],
   "source": [
    "print(np.shape(prediction))\n",
    "print(np.shape(probability))"
   ]
  },
  {
   "cell_type": "code",
   "execution_count": 134,
   "metadata": {},
   "outputs": [
    {
     "name": "stdout",
     "output_type": "stream",
     "text": [
      "[0.0, 1.0, 0.0, 0.0, 1.0, 0.0, 1.0, 0.0, 1.0, 0.0, 0.0, 1.0, 0.0, 1.0, 1.0, 0.0, 0.0, 1.0, 1.0, 1.0, 0.0, 1.0, 1.0, 0.0, 1.0, 0.0, 0.0, 0.0, 0.0, 1.0, 1.0, 0.0, 1.0, 0.0, 0.0, 0.0, 1.0, 1.0, 0.0, 1.0, 1.0, 1.0, 0.0, 0.0, 1.0, 0.0, 0.0, 0.0, 0.0, 1.0, 0.0, 0.0, 0.0, 1.0, 1.0, 1.0, 0.0, 1.0, 1.0, 1.0, 0.0, 1.0, 1.0, 1.0, 1.0, 1.0, 0.0, 1.0, 0.0, 0.0, 0.0, 1.0, 1.0, 0.0, 1.0, 1.0, 1.0, 0.0, 1.0, 0.0, 1.0, 0.0, 1.0, 0.0, 0.0, 1.0, 0.0, 0.0, 0.0, 0.0, 1.0, 1.0, 1.0, 0.0, 1.0, 1.0, 1.0, 1.0, 1.0, 0.0, 1.0, 0.0, 0.0, 0.0, 0.0, 1.0, 0.0, 0.0, 0.0, 0.0, 1.0, 0.0, 0.0, 1.0, 1.0, 0.0, 0.0, 0.0, 0.0, 0.0, 1.0, 0.0, 1.0, 0.0, 0.0, 1.0, 1.0, 0.0, 1.0, 0.0, 1.0, 0.0, 1.0, 1.0, 0.0, 1.0, 0.0, 0.0, 0.0, 1.0, 1.0, 1.0, 1.0, 1.0, 0.0, 1.0, 1.0, 1.0, 0.0, 1.0, 0.0, 0.0, 0.0, 0.0, 0.0, 0.0, 0.0, 1.0, 1.0, 0.0, 0.0, 1.0, 1.0, 0.0, 1.0, 0.0, 1.0, 0.0, 0.0, 0.0, 1.0, 0.0, 0.0, 0.0, 1.0, 1.0, 0.0, 1.0, 0.0, 1.0, 0.0, 0.0, 0.0, 0.0, 1.0, 0.0, 1.0, 0.0, 1.0, 0.0, 1.0, 1.0, 1.0, 1.0, 1.0, 0.0, 1.0, 0.0, 1.0, 1.0, 0.0, 1.0, 0.0, 0.0, 0.0, 1.0, 0.0, 0.0, 0.0, 1.0, 1.0, 0.0, 0.0, 1.0, 1.0, 1.0, 0.0, 0.0, 0.0, 0.0, 1.0, 0.0, 1.0, 1.0, 0.0, 0.0, 1.0, 0.0, 0.0, 0.0, 1.0, 0.0, 0.0, 0.0, 0.0, 0.0, 1.0, 0.0, 0.0, 0.0, 1.0, 0.0, 0.0, 1.0, 1.0, 1.0, 1.0, 0.0, 0.0, 0.0, 0.0, 0.0, 0.0, 0.0, 1.0, 0.0, 1.0, 1.0, 0.0, 0.0, 1.0, 1.0, 1.0, 0.0, 0.0, 0.0, 0.0, 0.0, 0.0, 0.0, 1.0, 1.0, 0.0, 1.0, 0.0, 1.0, 1.0, 0.0, 0.0, 0.0, 1.0, 0.0, 1.0, 1.0, 0.0, 1.0, 1.0, 0.0, 1.0, 1.0, 1.0, 0.0, 0.0, 1.0, 0.0, 0.0, 1.0, 1.0, 0.0, 0.0, 0.0, 0.0, 0.0, 1.0, 1.0, 0.0, 0.0, 0.0, 0.0, 0.0, 1.0, 0.0, 0.0, 0.0, 1.0, 0.0, 1.0, 0.0, 0.0, 1.0, 0.0, 1.0, 0.0, 1.0, 0.0, 0.0, 1.0, 1.0, 1.0, 1.0, 1.0, 0.0]\n"
     ]
    }
   ],
   "source": [
    "print(prediction)"
   ]
  },
  {
   "cell_type": "code",
   "execution_count": 135,
   "metadata": {},
   "outputs": [
    {
     "name": "stdout",
     "output_type": "stream",
     "text": [
      "[[0.0014269063962945774, 0.00013129843663910163], [6.665866291665353e-05, 0.00011513984774513449], [0.00014704070424402654, 2.9857728402909053e-05], [0.0015890760888979832, 0.00010847110343541907], [8.12090810147909e-05, 0.00021688339196688805], [0.0007687641089845151, 6.472284814518319e-05], [0.0001135874455402823, 0.0003442621725850155], [0.001462874620047816, 0.00026864321753798903], [1.0267991786240879e-05, 0.00011982525232961133], [0.00044408765292286494, 9.72068937287029e-06], [0.00022881943836993376, 0.00010324509106946658], [2.6331057392956757e-05, 0.0004256647547912549], [0.00014066140154122498, 1.831511216317755e-05], [1.6301005002926854e-05, 0.00021519720838544348], [1.690767014579252e-05, 0.0003829279447185302], [0.0017011362153974648, 0.0003574478775678998], [0.00015895249529037262, 5.600836096201061e-05], [0.00012256971092135965, 0.00024535875901830523], [9.813431456739301e-06, 8.67205109250858e-05], [1.1482073578428228e-05, 2.280763375968956e-05], [0.00036253592551701284, 4.215058848247829e-05], [3.066677534443397e-05, 0.00010272886368778906], [1.2310609802159888e-08, 6.687739922228272e-07], [0.0006543273125943633, 3.574075881260191e-05], [2.5042659620721036e-06, 0.00026015661408899775], [0.00017117090839377497, 5.8928881486601515e-05], [0.0003158906161823976, 0.000145353338049236], [0.0007873498622516569, 9.862572046669296e-05], [0.0006124161656582842, 2.938148581886967e-05], [1.8770631167395368e-05, 4.174584741133723e-05], [5.0481981421252975e-05, 0.00011208564779130753], [0.0001369484886372004, 5.028505916007308e-05], [9.842770945518614e-05, 0.00023060168506394577], [0.0015054611755822213, 0.00010551097087910989], [0.00014015072995462915, 5.0309472393234836e-05], [0.0012917514042143816, 7.777034533951772e-05], [0.00015476265140651694, 0.0007364358214670491], [1.9030955951040473e-05, 0.0002525429317311554], [0.0015054611755822213, 0.00010551097087910989], [3.0922556467425395e-05, 6.629571417816003e-05], [4.5042386174825774e-07, 3.081314421777923e-05], [1.793017885492479e-05, 4.173696247468062e-05], [0.00035327450866427405, 0.00017865555416335643], [0.00023964626025892635, 0.00017773715409990005], [3.095574437309968e-05, 6.18727353642928e-05], [1.980836613825158e-07, 1.2042633782511073e-07], [6.900640474426457e-07, 1.3144990189951154e-10], [0.001600772094533379, 0.00010041659309127617], [0.0015054611755822213, 0.00010551097087910989], [3.7231541526045044e-06, 0.0002642715375096054], [0.0009833776388545497, 7.825049392932584e-05], [0.001997826044386043, 0.0002954780547845502], [0.0010556719240981196, 8.253976944423427e-05], [9.146676329786036e-05, 0.00030813308142698607], [1.1095705133951837e-06, 1.2061129840579585e-06], [7.235509778347845e-05, 0.00026031034532153686], [0.00021133718175917943, 9.513692824004449e-05], [5.0971585255812424e-05, 0.00012027511839863962], [2.4683798875438107e-10, 1.6227369543268337e-09], [9.962297286941684e-05, 0.00032583187335928653], [0.001268276933150463, 9.432246014925328e-05], [0.00012748639041989775, 0.0002675702949671383], [5.003091611499741e-05, 0.00012140498494822285], [3.8075343371543606e-06, 0.00027245925564437], [5.07445973534492e-05, 0.0001179263152189956], [2.504896435453201e-06, 1.0459998871114356e-05], [0.00199417320568105, 0.000301222596892761], [9.962297286941684e-05, 0.00032583187335928653], [3.1133750702146335e-05, 1.710842665603854e-05], [1.4064731705014066e-05, 6.2893649638566785e-06], [0.00017705038521227562, 7.945676628189591e-05], [0.00010891428783220574, 0.00034209146188322046], [8.192798174371583e-05, 0.0002017950961893003], [0.00016905819764179202, 4.9684276229553914e-05], [0.00010293465586079043, 0.00022100274018888058], [4.424106642847508e-06, 8.037698705569266e-05], [4.614031964509023e-05, 0.00011709715555661318], [0.0015054611755822213, 0.00010551097087910989], [1.63704932432868e-07, 2.5446091358677505e-06], [0.0016427086351510254, 0.00010944364295153955], [9.312600246879005e-05, 0.00022169827419043998], [0.001648753629247448, 0.00010529472126289338], [2.7270983338942337e-06, 0.00017271560971445266], [0.0019004330916869306, 0.00027693677445212784], [0.001550444536393993, 0.00010722120175484342], [6.942651771378438e-06, 9.72488119825568e-05], [0.0016200786180839944, 0.00010921530151647771], [0.0011200849766041102, 0.00012167348283823604], [0.0013148514649557314, 0.00023368328089113592], [0.00019480715578501596, 0.000127431909662853], [3.7231541526045044e-06, 0.0002642715375096054], [7.489350410673746e-05, 0.000267072639324657], [2.2185197576929323e-06, 3.0327841511265082e-05], [0.00013149747448829992, 4.5346225864309504e-05], [9.347903782539055e-06, 3.87326771075471e-05], [4.797419909950828e-05, 0.00010809436001484323], [0.0001524655469844197, 0.0006831317473553775], [5.93761763479817e-05, 0.0003759400951762235], [3.7842429696708218e-06, 0.00025208193118176383], [0.0016200786180839944, 0.00010921530151647771], [6.020971790486771e-05, 0.00018774271010594466], [0.0013345140419909402, 9.770350643463523e-05], [0.0014733108547368462, 0.0002024124741831178], [0.0014535143849594293, 0.00010331547780568889], [0.0016602938659514518, 0.00010707764506559751], [1.4663335020284027e-05, 3.118575186837618e-05], [0.001153589488553928, 6.880109581793988e-05], [0.0014535143849594293, 0.00010331547780568889], [0.00019688655795342802, 6.408088456263035e-05], [0.0018656447142921242, 0.0002958741958396109], [0.00010833663271251307, 0.0002461594756023548], [1.3930250108393639e-13, 5.490874149548773e-16], [1.7721204474556954e-10, 8.567042207169465e-15], [3.1290811909439196e-05, 0.000481132770786066], [3.246124686003747e-08, 5.7391519580815347e-08], [0.0019494351714094658, 0.00030137686372377166], [0.00029941907486215726, 0.00013709506944093017], [7.259119677089798e-05, 1.4920643171928976e-07], [0.0013345140419909402, 9.770350643463523e-05], [0.0015636553670815472, 0.00027349937494476975], [2.6195660349307525e-06, 0.0002680982151504255], [0.00017523742774528298, 1.0535622093697326e-05], [1.793017885492479e-05, 4.173696247468062e-05], [1.9914074413144508e-07, 2.3284335490571318e-11], [0.0014535143849594293, 0.00010331547780568889], [3.11760872047232e-05, 0.0005000908169624624], [0.00010833663271251307, 0.0002461594756023548], [0.00029941907486215726, 0.00013709506944093017], [1.7760049111049597e-05, 4.5945946355447e-05], [3.538541387266327e-05, 1.8995702031453597e-05], [0.00014478788589870518, 0.0007233599295394788], [0.0015543601353564212, 0.00021460530203821568], [9.434908288946614e-05, 0.00023801088390736528], [2.4307381672358214e-05, 5.17499253648432e-05], [5.4559228295036715e-05, 1.4909544341349822e-06], [0.00010356820104159943, 0.00023886774353458509], [0.0001991580883751944, 6.440977796322498e-05], [0.0013874177047308955, 9.315568264858894e-05], [2.3373567343923046e-10, 2.7808517006600768e-12], [1.1553793520389057e-05, 8.186584229666944e-05], [0.00011205820665674128, 0.0006117707834044392], [1.2958636182372966e-05, 2.5691746603450404e-05], [9.597886347694773e-07, 3.7541379273186396e-06], [3.483502917549193e-08, 2.897558690793376e-06], [0.00199417320568105, 0.000301222596892761], [3.6579112290476894e-05, 9.470696642458891e-05], [1.9912474066897305e-05, 0.00034894882647643446], [2.9637200603502736e-06, 0.0002672261354285309], [0.0016325266246401107, 0.00022665071960008008], [9.344005054694026e-05, 0.0006244785633060907], [0.00034433005612658, 8.064343779382124e-06], [0.0016325266246401107, 0.00022665071960008008], [0.0019481767805265883, 0.000263186197460692], [0.0004733798845804335, 4.855234421524749e-05], [0.00017247479721493772, 3.482442438056744e-05], [7.243631441392312e-05, 1.8859904161241117e-05], [0.001648753629247448, 0.00010529472126289338], [1.4331633898704985e-06, 6.17264696214761e-06], [8.192798174371583e-05, 0.0002017950961893003], [0.0016797504073489153, 0.0002778405443803922], [2.0341603588991617e-05, 2.793965902339112e-06], [2.63247558568432e-05, 5.2266933443815425e-05], [2.9864355767684705e-05, 0.0002388561645588815], [0.0018115163869900956, 0.00029115485697028256], [0.00010971592479166942, 0.0003166894964646438], [0.0017490089879345612, 0.00028509644933318913], [3.921661352234816e-06, 0.0002856950280367728], [0.0015054611755822213, 0.00010551097087910989], [0.0016602938659514518, 0.00010707764506559751], [0.0011832950170207511, 0.00021593025993430254], [1.7575927079853282e-05, 7.088492134052779e-05], [3.248276231488342e-08, 8.540506209019718e-11], [0.00029941907486215726, 0.00013709506944093017], [5.566371187709102e-05, 2.9187977357367415e-05], [1.2278698952763073e-06, 9.516746263225074e-05], [1.927767267511284e-05, 0.00040458781651159394], [0.001268276933150463, 9.432246014925328e-05], [0.00012462326920213249, 0.0006591495000392984], [0.001268276933150463, 9.432246014925328e-05], [1.1379837015843191e-06, 7.624363189270116e-05], [0.0013959570231290657, 0.00010068602630299839], [0.0013251663227898181, 8.000135023649507e-05], [0.0018835163798162449, 0.00026876996097654983], [0.0009250512758103537, 0.0001786010633530349], [2.4069948511595038e-05, 0.0004309962176134402], [0.0012605186566635909, 8.726804986678031e-05], [4.3176292964016796e-05, 8.864867695896113e-05], [0.0011999625050855669, 9.068071912261766e-05], [3.022479997174881e-06, 6.256131407639364e-06], [0.00015039068318023968, 5.3845907336148676e-05], [7.73006465896351e-05, 0.0005055985480150879], [1.8748936980747511e-06, 0.00011705695862463029], [8.965787187251608e-07, 6.026809107496554e-05], [1.3906728846145441e-05, 7.063658225016523e-05], [2.424675110789019e-05, 6.019414405254278e-05], [0.00031395825687198774, 0.0001344823102908022], [0.00012462326920213249, 0.0006591495000392984], [0.0011552408882166256, 0.00018378330756445809], [0.0001524655469844197, 0.0006831317473553775], [2.0763209650213715e-06, 1.887724574032992e-05], [0.0011999625050855669, 9.068071912261766e-05], [4.8405077063772364e-05, 0.00011137890294812227], [0.0014535143849594293, 0.00010331547780568889], [0.0016556890323645422, 0.0001062580892918152], [0.0016200786180839944, 0.00010921530151647771], [0.00010538355522646927, 0.0005850525257222625], [0.001268276933150463, 9.432246014925328e-05], [0.0015348184248906147, 8.85519991108078e-05], [0.001268276933150463, 9.432246014925328e-05], [2.2642333068409903e-05, 0.0001294146646205605], [9.347903782539055e-06, 3.87326771075471e-05], [0.00024992870153115, 0.00017886496927654126], [0.0009833776388545497, 7.825049392932584e-05], [2.8677822444893158e-05, 6.130658932161156e-05], [3.665268064548437e-06, 0.0002691639575684687], [0.00011137272659545336, 0.0005660162293127011], [0.0019494351714094658, 0.00030137686372377166], [0.0016225401677432908, 0.00020969943181192583], [0.001981974492065756, 0.0002786940519261534], [0.0016058162740729832, 0.0002696103561975989], [0.00010833663271251307, 0.0002461594756023548], [0.00011568029583422657, 1.5318576699176638e-05], [3.5046348457476294e-06, 5.661465884272929e-05], [1.0903522204744948e-05, 4.4018972859501235e-05], [0.0015652967887847418, 9.739895745126006e-05], [0.00035327450866427405, 0.00017865555416335643], [0.0001135874455402823, 0.0003442621725850155], [9.173977363669949e-05, 4.768560147737221e-05], [0.0015652967887847418, 9.739895745126006e-05], [0.001550444536393993, 0.00010722120175484342], [2.6374355784720727e-07, 1.1335279019057383e-05], [0.0004052732622176815, 0.00020401970286095488], [0.0016427086351510254, 0.00010944364295153955], [0.0016602938659514518, 0.00010707764506559751], [0.0010951332781951525, 0.00018631611238381738], [0.0014535143849594293, 0.00010331547780568889], [1.4765781684860758e-06, 2.5278081721304688e-05], [5.945217931504046e-05, 3.3085022626038256e-05], [0.00011797531079024569, 1.6744168455756147e-05], [7.227865266331657e-05, 3.769390441482761e-05], [7.782207768749931e-05, 0.00013512143083451835], [0.0010556719240981196, 8.253976944423427e-05], [0.00016725395805123857, 5.801601492355158e-05], [0.00010432397415488142, 0.0002964098192937872], [8.965787187251608e-07, 6.026809107496554e-05], [6.740009238968245e-05, 0.00024678301421820256], [8.842650103044422e-06, 1.7660911176160314e-05], [0.001357905542726989, 0.00023930264658454545], [0.0015890760888979832, 0.00010847110343541907], [0.0005622771821663408, 2.7785519166470992e-05], [0.001550444536393993, 0.00010722120175484342], [0.00018867867432323848, 6.26520611644178e-05], [0.0018656447142921242, 0.0002958741958396109], [0.0004031935232868564, 0.00019679659576808475], [2.6900490336276624e-05, 0.0003944951967450833], [0.0013959570231290657, 0.00010068602630299839], [1.6402491095636636e-05, 3.802149866037021e-05], [2.8677822444893158e-05, 6.130658932161156e-05], [0.0019645741774428657, 0.00027941975792045767], [0.0015261133830004414, 0.00026028044444123587], [1.0931701789706388e-05, 5.513837364584691e-05], [4.344203565391848e-05, 9.581469177448153e-05], [8.606598792433437e-06, 0.00011430756470858068], [0.0015890760888979832, 0.00010847110343541907], [0.0004052732622176815, 0.00020401970286095488], [0.001997826044386043, 0.0002954780547845502], [2.622026203957564e-05, 8.985459649635688e-06], [0.0018115163869900956, 0.00029115485697028256], [0.0012702864881583677, 0.000227766407290772], [0.0016602938659514518, 0.00010707764506559751], [4.752173888147806e-07, 4.009216885517121e-05], [7.064703882259709e-05, 0.00018037559256087548], [0.0018656447142921242, 0.0002958741958396109], [1.43202534856087e-05, 0.00013103751709933525], [0.0017490089879345612, 0.00028509644933318913], [0.00015530773774769365, 0.0007311405036789122], [1.8933096790463098e-06, 0.00015906017231607903], [0.0018115163869900956, 0.00029115485697028256], [0.0012702864881583677, 0.000227766407290772], [0.0001278002275752955, 1.9024166976396075e-05], [1.5299408841320076e-06, 6.188405927611338e-06], [0.00016099694948585886, 7.219956811060319e-05], [1.4575432569033088e-06, 6.166102369676908e-06], [0.00012782877840249036, 0.00024691566102646474], [2.6933958337773335e-17, 1.0813668474409341e-31], [1.3339106670720865e-05, 0.0003757904153517931], [0.00015530773774769365, 0.0007311405036789122], [0.0015890760888979832, 0.00010847110343541907], [3.5589269011277105e-06, 0.0002648706601297704], [0.00010356820104159943, 0.00023886774353458509], [1.8933096790463098e-06, 0.00015906017231607903], [0.00024773450677367874, 0.00017933072510978535], [0.0015167778749058313, 0.0002408139775924338], [3.955773579802351e-06, 0.00029405133125348675], [0.00017705038521227562, 7.945676628189591e-05], [0.0013021745966686161, 0.0001774097518519046], [6.3307083249949295e-06, 0.00010380825271861175], [2.399820042478254e-06, 0.00016208126227634713], [3.6264445182139766e-05, 2.4617245271422555e-05], [0.0015261133830004414, 0.00026028044444123587], [9.217897723392408e-05, 4.1514741220724e-05], [7.868421669477701e-08, 1.0992217768350163e-11], [0.0013692826754792124, 0.00013831251889496297], [8.704329504491606e-05, 0.00019615915862992653], [1.9912012345934257e-05, 0.00011303123963510178], [0.0014535143849594293, 0.00010331547780568889], [0.0003493083156850915, 4.746250419037113e-05], [0.0011200849766041102, 0.00012167348283823604], [1.0909625881024804e-05, 4.2873866807338284e-08], [0.0003413735202932295, 0.00018818291154761572], [8.904593432080961e-06, 0.00015644822997303064], [0.00010339255397006255, 1.0545260697177182e-05], [0.0010398982230461946, 0.0001404638482607597], [5.6567941322460676e-05, 1.4786985821499253e-07], [1.9912474066897305e-05, 0.00034894882647643446], [0.0012836783381582435, 0.00013327423813822316], [1.4791752393575663e-06, 0.00011487509258093279], [0.0013345140419909402, 9.770350643463523e-05], [0.0014687706319198878, 0.00013980023028693783], [3.1452215096610163e-05, 0.0004987919864636203], [0.0017607676714335298, 0.00023045021953513905], [2.5042659620721036e-06, 0.00026015661408899775], [0.0002404795282314248, 0.0001462507392370996], [3.5139656611493743e-05, 7.064545608124228e-05], [0.00018096460503292517, 0.00014858642014444246], [0.0016694750741401208, 0.0002570607514226653], [1.5821551407714512e-05, 3.8926121459810064e-05], [1.2679249386216974e-05, 4.988231727813102e-05], [2.5355786700727322e-05, 0.0005125588309719455], [0.00012573013302325284, 0.00026701204065939595], [3.3714246090277584e-06, 0.0002342499267100906], [0.0014455254687670632, 8.832786760712926e-05]]\n"
     ]
    }
   ],
   "source": [
    "print(probability)"
   ]
  },
  {
   "cell_type": "markdown",
   "metadata": {},
   "source": [
    "### Gaussian Naiive Bayes Classifier"
   ]
  },
  {
   "cell_type": "code",
   "execution_count": 136,
   "metadata": {},
   "outputs": [],
   "source": [
    "from sklearn.naive_bayes import GaussianNB"
   ]
  },
  {
   "cell_type": "markdown",
   "metadata": {},
   "source": [
    "### Train Gaussian Naive Bayes Classifier"
   ]
  },
  {
   "cell_type": "code",
   "execution_count": 137,
   "metadata": {},
   "outputs": [],
   "source": [
    "# Create Gaussian Naive Bayes object with prior probabilities of each class\n",
    "clf = GaussianNB(priors=[P_yes,P_no])\n",
    "\n",
    "# Train model\n",
    "model = clf.fit(X_train, y_train)"
   ]
  },
  {
   "cell_type": "markdown",
   "metadata": {},
   "source": [
    "### Predict Class"
   ]
  },
  {
   "cell_type": "code",
   "execution_count": 144,
   "metadata": {},
   "outputs": [
    {
     "data": {
      "text/plain": [
       "array([0., 1., 0., 0., 1., 0., 1., 0., 1., 0., 0., 1., 0., 1., 1., 0., 0.,\n",
       "       1., 1., 1., 0., 1., 1., 0., 1., 0., 0., 0., 0., 1., 1., 0., 1., 0.,\n",
       "       0., 0., 1., 1., 0., 1., 1., 1., 1., 1., 1., 1., 0., 0., 0., 1., 0.,\n",
       "       0., 0., 1., 1., 1., 0., 1., 1., 1., 0., 1., 1., 1., 1., 1., 0., 1.,\n",
       "       1., 0., 0., 1., 1., 0., 1., 1., 1., 0., 1., 0., 1., 0., 1., 0., 0.,\n",
       "       1., 0., 0., 0., 1., 1., 1., 1., 0., 1., 1., 1., 1., 1., 0., 1., 0.,\n",
       "       0., 0., 0., 1., 0., 0., 0., 0., 1., 0., 0., 1., 1., 0., 0., 0., 0.,\n",
       "       0., 1., 0., 1., 0., 0., 1., 1., 0., 1., 1., 1., 0., 1., 1., 0., 1.,\n",
       "       0., 0., 0., 1., 1., 1., 1., 1., 0., 1., 1., 1., 0., 1., 0., 0., 0.,\n",
       "       0., 0., 0., 0., 1., 1., 0., 0., 1., 1., 0., 1., 0., 1., 0., 0., 0.,\n",
       "       1., 0., 0., 1., 1., 1., 0., 1., 0., 1., 0., 0., 0., 0., 1., 0., 1.,\n",
       "       0., 1., 0., 1., 1., 1., 1., 1., 0., 1., 0., 1., 1., 0., 1., 0., 0.,\n",
       "       0., 1., 0., 0., 0., 1., 1., 1., 0., 1., 1., 1., 0., 0., 0., 0., 1.,\n",
       "       0., 1., 1., 0., 1., 1., 1., 0., 0., 1., 1., 0., 0., 0., 0., 1., 1.,\n",
       "       0., 1., 1., 0., 0., 1., 1., 1., 1., 0., 0., 0., 0., 0., 0., 1., 1.,\n",
       "       0., 1., 1., 0., 0., 1., 1., 1., 0., 1., 0., 0., 0., 0., 0., 1., 1.,\n",
       "       0., 1., 0., 1., 1., 0., 0., 0., 1., 0., 1., 1., 0., 1., 1., 0., 1.,\n",
       "       1., 1., 1., 0., 1., 0., 0., 1., 1., 1., 0., 0., 0., 0., 1., 1., 0.,\n",
       "       0., 0., 0., 1., 1., 0., 0., 0., 1., 0., 1., 0., 0., 1., 0., 1., 1.,\n",
       "       1., 1., 0., 1., 1., 1., 1., 1., 0.])"
      ]
     },
     "execution_count": 144,
     "metadata": {},
     "output_type": "execute_result"
    }
   ],
   "source": [
    "# Predict class\n",
    "model.predict(X_test)"
   ]
  },
  {
   "cell_type": "markdown",
   "metadata": {},
   "source": [
    "### View The Model’s Score\n",
    "How good is our trained model compared to our training data?"
   ]
  },
  {
   "cell_type": "code",
   "execution_count": 138,
   "metadata": {},
   "outputs": [
    {
     "name": "stdout",
     "output_type": "stream",
     "text": [
      "Our model is 73.81% accurate!\n"
     ]
    }
   ],
   "source": [
    "print(\"Our model is %.2f%% accurate!\" % (model.score(X_train, y_train)*100))"
   ]
  },
  {
   "cell_type": "markdown",
   "metadata": {},
   "source": [
    "### Create Pipeline"
   ]
  },
  {
   "cell_type": "code",
   "execution_count": 139,
   "metadata": {},
   "outputs": [],
   "source": [
    "# Create standardizer\n",
    "standardizer = StandardScaler()\n",
    "\n",
    "# Create SVM classifier\n",
    "naiive = clf\n",
    "\n",
    "# Create a pipeline that standardizes, then runs logistic regression\n",
    "pipeline = make_pipeline(standardizer, naiive)"
   ]
  },
  {
   "cell_type": "markdown",
   "metadata": {},
   "source": [
    "### Create k-Fold Cross-Validation"
   ]
  },
  {
   "cell_type": "code",
   "execution_count": 140,
   "metadata": {},
   "outputs": [],
   "source": [
    "# Create k-Fold cross-validation\n",
    "kf = KFold(n_splits=10, shuffle=True, random_state=1)"
   ]
  },
  {
   "cell_type": "markdown",
   "metadata": {},
   "source": [
    "### Conduct k-Fold Cross-Validation"
   ]
  },
  {
   "cell_type": "code",
   "execution_count": 141,
   "metadata": {},
   "outputs": [],
   "source": [
    "# Do k-fold cross-validation\n",
    "cv_results = cross_val_score(pipeline, # Pipeline\n",
    "                             X_train, # Feature matrix\n",
    "                             y_train, # Target vector\n",
    "                             cv=kf, # Cross-validation technique\n",
    "                             scoring=\"accuracy\", # Loss function\n",
    "                             n_jobs=-1) # Use all CPU scores"
   ]
  },
  {
   "cell_type": "code",
   "execution_count": 142,
   "metadata": {},
   "outputs": [
    {
     "data": {
      "text/plain": [
       "array([0.72222222, 0.77777778, 0.73611111, 0.69444444, 0.69014085,\n",
       "       0.78873239, 0.78873239, 0.61971831, 0.76056338, 0.76056338])"
      ]
     },
     "execution_count": 142,
     "metadata": {},
     "output_type": "execute_result"
    }
   ],
   "source": [
    "cv_results"
   ]
  },
  {
   "cell_type": "markdown",
   "metadata": {},
   "source": [
    "### Calculate Mean Performance Score"
   ]
  },
  {
   "cell_type": "code",
   "execution_count": 143,
   "metadata": {},
   "outputs": [
    {
     "data": {
      "text/plain": [
       "0.7339006259780907"
      ]
     },
     "execution_count": 143,
     "metadata": {},
     "output_type": "execute_result"
    }
   ],
   "source": [
    "# Calculate mean\n",
    "cv_results.mean()"
   ]
  }
 ],
 "metadata": {
  "kernelspec": {
   "display_name": "Python 3",
   "language": "python",
   "name": "python3"
  },
  "language_info": {
   "codemirror_mode": {
    "name": "ipython",
    "version": 3
   },
   "file_extension": ".py",
   "mimetype": "text/x-python",
   "name": "python",
   "nbconvert_exporter": "python",
   "pygments_lexer": "ipython3",
   "version": "3.6.3"
  }
 },
 "nbformat": 4,
 "nbformat_minor": 1
}
